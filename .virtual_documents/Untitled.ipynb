pip list


import pandas as pd
import numpy as np
from sklearn.model_selection import train_test_split
import plotly.graph_objects as go
import plotly.express as px
from scipy import stats


df = pd.read_csv("loan_approval_dataset.csv")


df.shape


df.info()


df1 = df.head()
df1


# Remove leading whitespace from column names
df.columns = [col.lstrip() for col in df.columns]


df.info()


# Encode categorical variables
# df = pd.get_dummies(df, columns=['education', 'self_employed'])
df["education"] = df["education"].map({
    " Graduate": 1,
    " Not Graduate": 0
})

df["self_employed"] = df["self_employed"].map({
    " No": 0,
    " Yes": 1
})



df


# Convert loan_status to binary format
df["loan_status"] = df["loan_status"].map({
    " Approved": 1,
    " Rejected": 0
})


df.tail()


df.isnull().sum()


# Get the features (X) and target (y)
X = df.drop(columns=['loan_status'])
y = df['loan_status']



from sklearn.preprocessing import StandardScaler



# Standardize the features
scaler = StandardScaler()
X = scaler.fit_transform(X)


# Get the features (X) and target (y)
X = df.iloc[:, :-1]
y = df.iloc[:, -1]

# First split: 80% train, 20% temporary
X_train, X_temp, y_train, y_temp = train_test_split(X, y, test_size=0.2, random_state=0)

# Second split: 10% validation, 10% test from the temporary set
X_val, X_test, y_val, y_test = train_test_split(X_temp, y_temp, test_size=0.5, random_state=0)

# Print the sizes of the splits to verify
print(f"Training set size: {len(X_train)}")
print(f"Validation set size: {len(X_val)}")
print(f"Test set size: {len(X_test)}")



3415+427+427


from tensorflow.keras.models import Sequential
from tensorflow.keras.layers import Dense, Dropout, BatchNormalization


# Define the model
model = Sequential()
model.add(Dense(128, activation='relu', input_shape=(X_train.shape[1],)))
model.add(BatchNormalization())
model.add(Dropout(0.3))
model.add(Dense(64, activation='relu'))
model.add(BatchNormalization())
model.add(Dropout(0.3))
model.add(Dense(32, activation='relu'))
model.add(BatchNormalization())
model.add(Dropout(0.3))
model.add(Dense(1, activation='sigmoid'))


# Compile the model
model.compile(optimizer='adam',
              loss='binary_crossentropy',
              metrics=['accuracy'])


# Train the model
model.fit(X_train, y_train, epochs=50, batch_size=32, validation_split=0.2)


# Train the model
history = model.fit(X_train, y_train,
                    epochs=100,
                    batch_size=32,
                    validation_data=(X_val, y_val))


# Evaluate the model
test_loss, test_accuracy = model.evaluate(X_test, y_test)
print(f'Test Accuracy: {test_accuracy:.4f}')



